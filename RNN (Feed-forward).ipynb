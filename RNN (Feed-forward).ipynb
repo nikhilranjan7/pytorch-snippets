{
 "cells": [
  {
   "cell_type": "code",
   "execution_count": 1,
   "metadata": {},
   "outputs": [],
   "source": [
    "import torch\n",
    "import torch.nn as nn\n",
    "import torch.nn.functional as F"
   ]
  },
  {
   "cell_type": "code",
   "execution_count": 50,
   "metadata": {},
   "outputs": [],
   "source": [
    "class Network(nn.Module):\n",
    "    def __init__(self, input_size, output_size, hidden_dim, n_layers):\n",
    "        super().__init__()\n",
    "        \n",
    "        self.hidden_dim = hidden_dim\n",
    "        \n",
    "        # First dimenstion of input and output vector will be the batch_size\n",
    "        self.rnn = nn.RNN(input_size, hidden_dim, n_layers, batch_first=True)\n",
    "        \n",
    "        self.fc = nn.Linear(hidden_dim, output_size)\n",
    "        \n",
    "    def forward(self, x, hidden):\n",
    "        batch_size = x.size(0)\n",
    "        \n",
    "        r_out, hidden = self.rnn(x, hidden)\n",
    "        r_out_changed = r_out.contiguous().view(-1, self.hidden_dim)\n",
    "        \n",
    "        output = self.fc(r_out_changed)\n",
    "        \n",
    "        return r_out, hidden, output"
   ]
  },
  {
   "cell_type": "code",
   "execution_count": 51,
   "metadata": {},
   "outputs": [
    {
     "data": {
      "text/plain": [
       "Network(\n",
       "  (rnn): RNN(10, 3, num_layers=2, batch_first=True)\n",
       "  (fc): Linear(in_features=3, out_features=5, bias=True)\n",
       ")"
      ]
     },
     "execution_count": 51,
     "metadata": {},
     "output_type": "execute_result"
    }
   ],
   "source": [
    "# argument -> (input_size, output_size, hidden_dim, n_layers)\n",
    "model = Network(10,5,3,2)\n",
    "model"
   ]
  },
  {
   "cell_type": "code",
   "execution_count": 52,
   "metadata": {},
   "outputs": [],
   "source": [
    "# input -> (batch, seq, feature)\n",
    "# hidden_in -> (num_layers * num_directions, batch, hidden_dim)\n",
    "input_tensor = torch.randn((5, 4, 10))\n",
    "hidden = torch.randn((2, 5, 3))"
   ]
  },
  {
   "cell_type": "code",
   "execution_count": 55,
   "metadata": {},
   "outputs": [
    {
     "name": "stdout",
     "output_type": "stream",
     "text": [
      "Shape of output: torch.Size([5, 4, 3])\n",
      "Shape of hidden state: torch.Size([2, 5, 3])\n",
      "Shape of final layer output: torch.Size([20, 5])\n"
     ]
    }
   ],
   "source": [
    "# output -> (batch, seq_len, hidden_dim)\n",
    "# hidden_out -> (num_layers * num_directions, batch, hidden_dim)\n",
    "out, h_out, fc_out = model(input_tensor, hidden)[0], model(input_tensor, hidden)[1],model(input_tensor, hidden)[2]\n",
    "print(\"Shape of rnn_output:\", out.shape)\n",
    "print(\"Shape of hidden state:\", h_out.shape)\n",
    "print(\"Shape of final layer output:\", fc_out.shape)"
   ]
  },
  {
   "cell_type": "code",
   "execution_count": 56,
   "metadata": {},
   "outputs": [
    {
     "data": {
      "text/plain": [
       "tensor([[-0.2847, -0.0406,  0.3030,  0.0081,  0.5255],\n",
       "        [-0.4608, -0.1324,  0.0768,  0.3836, -0.0933],\n",
       "        [ 0.0510,  0.1256,  0.4968, -0.2799,  0.5112],\n",
       "        [-0.4781,  0.2612,  0.5003,  0.7011, -0.2417],\n",
       "        [-0.6796,  0.2401,  0.4115,  1.0423, -0.5627],\n",
       "        [-0.0991,  0.3143,  0.5867,  0.2506, -0.1416],\n",
       "        [-0.1302,  0.2787,  0.6195,  0.1241,  0.2477],\n",
       "        [-0.3642,  0.2454,  0.4932,  0.5395, -0.1933],\n",
       "        [-0.1784,  0.4543,  0.7891,  0.3489,  0.0842],\n",
       "        [-0.4610,  0.1843,  0.3604,  0.7321, -0.5137],\n",
       "        [ 0.0405,  0.1482,  0.4878, -0.1872,  0.3283],\n",
       "        [-0.1404,  0.0516,  0.4139, -0.1099,  0.5389],\n",
       "        [-0.0539,  0.0978,  0.4538, -0.1555,  0.4621],\n",
       "        [-0.1854,  0.2511,  0.5683,  0.2075,  0.1503],\n",
       "        [-0.2954,  0.0885,  0.3332,  0.3252, -0.0936],\n",
       "        [-0.0208,  0.3336,  0.6964,  0.0060,  0.3110],\n",
       "        [-0.3243, -0.0073,  0.2000,  0.3435, -0.2134],\n",
       "        [ 0.0105,  0.1691,  0.5372, -0.1883,  0.4645],\n",
       "        [-0.5320, -0.0626,  0.1333,  0.5536, -0.2116],\n",
       "        [ 0.0166,  0.0798,  0.4511, -0.2818,  0.5503]],\n",
       "       grad_fn=<AddmmBackward>)"
      ]
     },
     "execution_count": 56,
     "metadata": {},
     "output_type": "execute_result"
    }
   ],
   "source": [
    "fc_out"
   ]
  },
  {
   "cell_type": "code",
   "execution_count": null,
   "metadata": {},
   "outputs": [],
   "source": []
  }
 ],
 "metadata": {
  "kernelspec": {
   "display_name": "Python 3",
   "language": "python",
   "name": "python3"
  },
  "language_info": {
   "codemirror_mode": {
    "name": "ipython",
    "version": 3
   },
   "file_extension": ".py",
   "mimetype": "text/x-python",
   "name": "python",
   "nbconvert_exporter": "python",
   "pygments_lexer": "ipython3",
   "version": "3.6.7"
  }
 },
 "nbformat": 4,
 "nbformat_minor": 2
}
