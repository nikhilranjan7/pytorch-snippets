{
 "cells": [
  {
   "cell_type": "code",
   "execution_count": 2,
   "metadata": {},
   "outputs": [],
   "source": [
    "import torch\n",
    "from torch import nn\n",
    "import torch.nn.functional as F"
   ]
  },
  {
   "cell_type": "code",
   "execution_count": 6,
   "metadata": {},
   "outputs": [],
   "source": [
    "class Network(nn.Module):\n",
    "    def __init__(self):\n",
    "        super().__init__()\n",
    "        \n",
    "        self.hidden1 = nn.Linear(1024, 512)\n",
    "        self.hidden2 = nn.Linear(512, 128)\n",
    "        \n",
    "        self.output = nn.Linear(128, 7)\n",
    "        \n",
    "    def forward(self, x):\n",
    "        x = F.leaky_relu(self.hidden1(x))\n",
    "        x = F.leaky_relu(self.hidden2(x))\n",
    "        \n",
    "        x = F.softmax(self.output(x), dim=1)\n",
    "        \n",
    "        return x"
   ]
  },
  {
   "cell_type": "code",
   "execution_count": 7,
   "metadata": {},
   "outputs": [
    {
     "data": {
      "text/plain": [
       "Network(\n",
       "  (hidden1): Linear(in_features=1024, out_features=512, bias=True)\n",
       "  (hidden2): Linear(in_features=512, out_features=128, bias=True)\n",
       "  (output): Linear(in_features=128, out_features=7, bias=True)\n",
       ")"
      ]
     },
     "execution_count": 7,
     "metadata": {},
     "output_type": "execute_result"
    }
   ],
   "source": [
    "model = Network()\n",
    "model"
   ]
  },
  {
   "cell_type": "code",
   "execution_count": 9,
   "metadata": {},
   "outputs": [
    {
     "data": {
      "text/plain": [
       "Parameter containing:\n",
       "tensor([[ 0.0089, -0.0096,  0.0128,  ..., -0.0196, -0.0062, -0.0132],\n",
       "        [-0.0239, -0.0261, -0.0204,  ..., -0.0287,  0.0142,  0.0093],\n",
       "        [ 0.0203, -0.0120, -0.0228,  ..., -0.0183,  0.0253, -0.0129],\n",
       "        ...,\n",
       "        [ 0.0028,  0.0115,  0.0167,  ...,  0.0288, -0.0171, -0.0103],\n",
       "        [-0.0168,  0.0061,  0.0100,  ...,  0.0167, -0.0301,  0.0049],\n",
       "        [ 0.0049,  0.0210,  0.0036,  ...,  0.0244, -0.0294, -0.0270]],\n",
       "       requires_grad=True)"
      ]
     },
     "execution_count": 9,
     "metadata": {},
     "output_type": "execute_result"
    }
   ],
   "source": [
    "model.hidden1.weight"
   ]
  },
  {
   "cell_type": "code",
   "execution_count": 12,
   "metadata": {},
   "outputs": [
    {
     "data": {
      "text/plain": [
       "Parameter containing:\n",
       "tensor([ 0.0274, -0.0191,  0.0733,  0.0757, -0.0206, -0.0423,  0.0113],\n",
       "       requires_grad=True)"
      ]
     },
     "execution_count": 12,
     "metadata": {},
     "output_type": "execute_result"
    }
   ],
   "source": [
    "model.output.bias"
   ]
  },
  {
   "cell_type": "code",
   "execution_count": 38,
   "metadata": {},
   "outputs": [
    {
     "data": {
      "text/plain": [
       "tensor([[0.7045, 0.9515, 0.9855,  ..., 0.4967, 0.6462, 0.5098],\n",
       "        [0.5999, 0.8059, 0.3228,  ..., 0.3751, 0.5274, 0.8470],\n",
       "        [0.5694, 0.4296, 0.3341,  ..., 0.8681, 0.7825, 0.9851],\n",
       "        [0.4504, 0.6892, 0.1652,  ..., 0.5084, 0.7558, 0.2162],\n",
       "        [0.1427, 0.2377, 0.1988,  ..., 0.1253, 0.8300, 0.5698]])"
      ]
     },
     "execution_count": 38,
     "metadata": {},
     "output_type": "execute_result"
    }
   ],
   "source": [
    "# 5 datapoints\n",
    "features = torch.rand(5, 1024)\n",
    "features"
   ]
  },
  {
   "cell_type": "code",
   "execution_count": 39,
   "metadata": {},
   "outputs": [
    {
     "data": {
      "text/plain": [
       "tensor([[0.1535, 0.1285, 0.1501, 0.1464, 0.1435, 0.1396, 0.1383],\n",
       "        [0.1451, 0.1271, 0.1537, 0.1523, 0.1439, 0.1458, 0.1321],\n",
       "        [0.1582, 0.1278, 0.1498, 0.1526, 0.1365, 0.1375, 0.1376],\n",
       "        [0.1491, 0.1324, 0.1567, 0.1528, 0.1411, 0.1346, 0.1334],\n",
       "        [0.1538, 0.1296, 0.1559, 0.1489, 0.1376, 0.1427, 0.1314]],\n",
       "       grad_fn=<SoftmaxBackward>)"
      ]
     },
     "execution_count": 39,
     "metadata": {},
     "output_type": "execute_result"
    }
   ],
   "source": [
    "model.forward(features)"
   ]
  },
  {
   "cell_type": "code",
   "execution_count": null,
   "metadata": {},
   "outputs": [],
   "source": []
  }
 ],
 "metadata": {
  "kernelspec": {
   "display_name": "Python 3",
   "language": "python",
   "name": "python3"
  },
  "language_info": {
   "codemirror_mode": {
    "name": "ipython",
    "version": 3
   },
   "file_extension": ".py",
   "mimetype": "text/x-python",
   "name": "python",
   "nbconvert_exporter": "python",
   "pygments_lexer": "ipython3",
   "version": "3.6.7"
  }
 },
 "nbformat": 4,
 "nbformat_minor": 2
}
